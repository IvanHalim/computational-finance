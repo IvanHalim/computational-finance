{
 "cells": [
  {
   "cell_type": "markdown",
   "metadata": {},
   "source": [
    "# Stock Price Dynamics\n",
    "\n",
    "Modeling stock price dynamics is an important aspect of mathematical finance. Simulating stock price movements allows an algorithmic trader to test different strategies. Policy makers at the federal reserve can evaluate risk and volatility using similar models.\n",
    "\n",
    "It's important to keep in mind that every financial model contains assumptions and limitations. Understanding these limitations is a crucial part of being a responsible practicioner. At any rate, stochastic models are still a valuable tool for assessing risk and volatility.\n",
    "\n",
    "## Geometric Brownian Motion\n",
    "\n",
    "Simulations of stocks and options are often modeled using stochastic differential equations (SDEs). Because of the randomness associated with stock price movements, the models cannot be developed using ordinary differential equations (ODEs).\n",
    "\n",
    "A typical model used for stock price dynamics is the following stochastic differential equation:\n",
    "\n",
    "$$dS = \\mu S dt + \\sigma S dW$$"
   ]
  },
  {
   "cell_type": "code",
   "execution_count": null,
   "metadata": {},
   "outputs": [],
   "source": []
  }
 ],
 "metadata": {
  "kernelspec": {
   "display_name": "Python 3",
   "language": "python",
   "name": "python3"
  },
  "language_info": {
   "codemirror_mode": {
    "name": "ipython",
    "version": 3
   },
   "file_extension": ".py",
   "mimetype": "text/x-python",
   "name": "python",
   "nbconvert_exporter": "python",
   "pygments_lexer": "ipython3",
   "version": "3.6.8"
  }
 },
 "nbformat": 4,
 "nbformat_minor": 2
}
