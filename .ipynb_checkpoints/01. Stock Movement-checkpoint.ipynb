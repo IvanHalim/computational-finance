{
 "cells": [
  {
   "cell_type": "markdown",
   "metadata": {},
   "source": [
    "# Stock Price Dynamics\n",
    "\n",
    "Modeling stock price dynamics is an important aspect of mathematical finance. Simulating stock price movements allows an algorithmic trader to test different strategies. Policy makers at the federal reserve can evaluate risk and volatility using similar models.\n",
    "\n",
    "It's important to keep in mind that every financial model contains assumptions and limitations. Understanding these limitations is a crucial part of being a responsible practicioner. At any rate, stochastic models are still a valuable tool for assessing risk and volatility.\n",
    "\n",
    "## Geometric Brownian Motion\n",
    "\n",
    "Simulations of stocks and options are often modeled using stochastic differential equations (SDEs). Because of the randomness associated with stock price movements, the models cannot be developed using ordinary differential equations (ODEs).\n",
    "\n",
    "The usual model for the time-evolution of an asset price $S(t)$ is given by the Geometric Brownian Motion, represented by the following stochastic differential equation:\n",
    "\n",
    "$$dS(t) = \\mu S(t) dt + \\sigma S(t) dW_t$$\n",
    "\n",
    "where $S(t)$ is the stock price, $\\mu$ is the drift coefficient, $\\sigma$ is the diffusion coefficient (or volatility), and $W_t$ is the [Brownian Motion](https://en.wikipedia.org/wiki/Brownian_motion).\n",
    "\n",
    "In modeling a stock price, the drift coefficient represents the mean of returns over some period of time, and the diffusion coefficient represents the standard deviation of those same returns."
   ]
  },
  {
   "cell_type": "code",
   "execution_count": null,
   "metadata": {},
   "outputs": [],
   "source": []
  }
 ],
 "metadata": {
  "kernelspec": {
   "display_name": "Python 3",
   "language": "python",
   "name": "python3"
  },
  "language_info": {
   "codemirror_mode": {
    "name": "ipython",
    "version": 3
   },
   "file_extension": ".py",
   "mimetype": "text/x-python",
   "name": "python",
   "nbconvert_exporter": "python",
   "pygments_lexer": "ipython3",
   "version": "3.6.8"
  }
 },
 "nbformat": 4,
 "nbformat_minor": 2
}
