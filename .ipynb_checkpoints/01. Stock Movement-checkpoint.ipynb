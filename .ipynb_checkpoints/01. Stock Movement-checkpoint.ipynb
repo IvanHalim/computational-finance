{
 "cells": [
  {
   "cell_type": "markdown",
   "metadata": {},
   "source": [
    "# Stock Price Dynamics\n",
    "\n",
    "Modeling stock price dynamics is an important aspect of mathematical finance. Simulating stock price movements allows an algorithmic trader to test different strategies. Policy makers at the federal reserve can evaluate risk and volatility using similar models.\n",
    "\n",
    "It's important to keep in mind that every financial model contains assumptions and limitations. Understanding these limitations is a crucial part of being a responsible practicioner. At any rate, stochastic models are still a valuable tool for assessing risk and volatility.\n",
    "\n",
    "## Geometric Brownian Motion\n",
    "\n",
    "Simulations of stocks and options are often modeled using stochastic differential equations (SDEs). Because of the randomness associated with stock price movements, the models cannot be developed using ordinary differential equations (ODEs).\n",
    "\n",
    "The usual model for the time-evolution of an asset price $S$ is given by the Geometric Brownian Motion, represented by the following stochastic differential equation:\n",
    "\n",
    "$$dS = \\mu S dt + \\sigma S dW_t$$\n",
    "\n",
    "where $S$ is the stock price, $\\mu$ is the drift coefficient, $\\sigma$ is the diffusion coefficient (or volatility), and $W_t$ is the [Brownian Motion](https://en.wikipedia.org/wiki/Brownian_motion).\n",
    "\n",
    "In modeling a stock price, the drift coefficient represents the mean of returns over some period of time, and the diffusion coefficient represents the standard deviation of those same returns.\n",
    "\n",
    "The Brownian Motion $W_t$ is the random portion of the equation. Each Brownian Increment $W_i$ is computed by multiplying a standard random variable $z_i$ from a normal distribution $N(0,1)$ with mean $0$ and standard deviation $1$ by the square root of the time increment $\\sqrt{\\Delta t_i}$.\n",
    "\n",
    "$$W_i = z_i \\sqrt{\\Delta t_i}$$\n",
    "\n",
    "The cumulative sum of the Brownian increments is the discretized Brownian path.\n",
    "\n",
    "$$W_{n}(t) = \\sum_{i = 1}^n W_{i}(t)$$\n",
    "\n",
    "For the SDE above with an initial condition for the stock price of $S(0) = S_0$, the closed-form solution [Geometric Brownian Motion](https://en.wikipedia.org/wiki/Geometric_Brownian_motion) (GBM) is:\n",
    "\n",
    "$$S(t) = S_0 e^{(\\mu - \\frac{1}{2}\\sigma^2)t+\\sigma W_t}$$\n",
    "\n",
    "The solution $S(t)$ can be found by the application of [Ito's Lemma](https://www.quantstart.com/articles/Geometric-Brownian-Motion) to the stochastic differential equation.\n",
    "\n",
    "## Euler-Maruyama Approximation\n",
    "\n",
    "The example in the previous section is a simple case where there's actually a closed-form solution. The following SDE used for interest-rate models, which is known as the Langevin Equation, does not have a closed-form solution:\n",
    "\n",
    "$$dS = -\\mu S dt + \\sigma dW_t$$\n",
    "\n",
    "In this case, we need to use a numerical technique to approximate the solution. One of the most straightforward approximations is the [Euler-Maruyama Method](https://en.wikipedia.org/wiki/Euler%E2%80%93Maruyama_method).\n",
    "\n",
    "$$w_{i+1} = w_i - \\mu w_i \\Delta t_i + \\sigma \\Delta W_i$$\n",
    "\n",
    "where $\\mu$ and $\\sigma$ are the drift and diffusion coefficients, respectively. Following a similar format, here's the Euler-Maruyama approximation for the SDE from the previous section:\n",
    "\n",
    "$$w_{i+1} = w_i + \\mu w_i \\Delta t_i + \\sigma w_i \\Delta W_i$$\n",
    "\n",
    "We will use this approximation as a verification of our model because we know what the closed-form solution is. It's always good practice to verify a numerical approximation against a simplified model with a known solution before applying it to more complex models. If the results agree well with the closed-form solution, we are probably solving the mathematical model correctly.\n",
    "\n",
    "## Brownian Motion in Python\n",
    "\n"
   ]
  },
  {
   "cell_type": "code",
   "execution_count": null,
   "metadata": {},
   "outputs": [],
   "source": []
  }
 ],
 "metadata": {
  "kernelspec": {
   "display_name": "Python 3",
   "language": "python",
   "name": "python3"
  },
  "language_info": {
   "codemirror_mode": {
    "name": "ipython",
    "version": 3
   },
   "file_extension": ".py",
   "mimetype": "text/x-python",
   "name": "python",
   "nbconvert_exporter": "python",
   "pygments_lexer": "ipython3",
   "version": "3.6.8"
  }
 },
 "nbformat": 4,
 "nbformat_minor": 2
}
